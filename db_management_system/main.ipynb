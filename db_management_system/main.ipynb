{
 "cells": [
  {
   "cell_type": "code",
   "execution_count": 1,
   "id": "1ac83bb8",
   "metadata": {},
   "outputs": [],
   "source": [
    "from db_manager import DatabaseManager\n"
   ]
  },
  {
   "cell_type": "code",
   "execution_count": 2,
   "id": "7d4a8bff",
   "metadata": {},
   "outputs": [],
   "source": [
    "db_manager = DatabaseManager()"
   ]
  },
  {
   "cell_type": "code",
   "execution_count": 11,
   "id": "451fdbaf",
   "metadata": {},
   "outputs": [
    {
     "data": {
      "text/plain": [
       "(True, \"Database 'university' created successfully\")"
      ]
     },
     "execution_count": 11,
     "metadata": {},
     "output_type": "execute_result"
    }
   ],
   "source": [
    "db_manager.create_database('university')"
   ]
  },
  {
   "cell_type": "code",
   "execution_count": 12,
   "id": "6d60805e",
   "metadata": {},
   "outputs": [
    {
     "data": {
      "text/plain": [
       "['mydb2', 'university']"
      ]
     },
     "execution_count": 12,
     "metadata": {},
     "output_type": "execute_result"
    }
   ],
   "source": [
    "db_manager.list_databases()"
   ]
  },
  {
   "cell_type": "code",
   "execution_count": 13,
   "id": "f3a18de4",
   "metadata": {},
   "outputs": [],
   "source": [
    "student_schema = {\n",
    "    \"student_id\": int,\n",
    "    \"name\": str,\n",
    "    \"Phone\": str,\n",
    "    \"age\": float,\n",
    "    \"Branch\": str\n",
    "}"
   ]
  },
  {
   "cell_type": "code",
   "execution_count": 14,
   "id": "48577241",
   "metadata": {},
   "outputs": [],
   "source": [
    "prof = {\n",
    "    \"prof_id\": int,\n",
    "    \"name\": str,\n",
    "    \"Phone\": str,\n",
    "    \"age\": float,\n",
    "    \"salary\": int,\n",
    "    \"department\": str\n",
    "}"
   ]
  },
  {
   "cell_type": "code",
   "execution_count": 15,
   "id": "77cefff2",
   "metadata": {},
   "outputs": [
    {
     "data": {
      "text/plain": [
       "(True, \"Table 'professor' created successfully in database 'university'\")"
      ]
     },
     "execution_count": 15,
     "metadata": {},
     "output_type": "execute_result"
    }
   ],
   "source": [
    "db_manager.create_table('university', 'professor', prof, order=6, search_key= \"prof_id\")"
   ]
  },
  {
   "cell_type": "code",
   "execution_count": 16,
   "id": "6fbe61d0",
   "metadata": {},
   "outputs": [
    {
     "data": {
      "text/plain": [
       "(True, \"Table 'student' created successfully in database 'university'\")"
      ]
     },
     "execution_count": 16,
     "metadata": {},
     "output_type": "execute_result"
    }
   ],
   "source": [
    "db_manager.create_table('university', 'student', student_schema, order=6, search_key= \"student_id\")"
   ]
  },
  {
   "cell_type": "code",
   "execution_count": 17,
   "id": "c0ccf170",
   "metadata": {},
   "outputs": [
    {
     "data": {
      "text/plain": [
       "['professor', 'student']"
      ]
     },
     "execution_count": 17,
     "metadata": {},
     "output_type": "execute_result"
    }
   ],
   "source": [
    "tables_name, _ = db_manager.list_tables('university')\n",
    "tables_name"
   ]
  },
  {
   "cell_type": "code",
   "execution_count": 18,
   "id": "89150f89",
   "metadata": {},
   "outputs": [
    {
     "data": {
      "text/plain": [
       "[]"
      ]
     },
     "execution_count": 18,
     "metadata": {},
     "output_type": "execute_result"
    }
   ],
   "source": [
    "table_stu, _ = db_manager.get_table('university', 'student')\n",
    "table_stu.get_all()"
   ]
  },
  {
   "cell_type": "code",
   "execution_count": 35,
   "id": "2bf23ebd",
   "metadata": {},
   "outputs": [],
   "source": [
    "rec = {\n",
    "    \"student_id\": 9,\n",
    "    \"name\": \"xyzf\",\n",
    "    \"Phone\": \"846699\",\n",
    "    \"age\": 26.0,\n",
    "    \"Branch\": \"pech Eng1\"\n",
    "}"
   ]
  },
  {
   "cell_type": "markdown",
   "id": "5ab55ba4",
   "metadata": {},
   "source": [
    "### INsertion"
   ]
  },
  {
   "cell_type": "code",
   "execution_count": 36,
   "id": "7aa0abe8",
   "metadata": {},
   "outputs": [
    {
     "data": {
      "text/plain": [
       "(True, 9)"
      ]
     },
     "execution_count": 36,
     "metadata": {},
     "output_type": "execute_result"
    }
   ],
   "source": [
    "table_stu.insert(rec)"
   ]
  },
  {
   "cell_type": "markdown",
   "id": "327a8940",
   "metadata": {},
   "source": [
    "### Search"
   ]
  },
  {
   "cell_type": "code",
   "execution_count": 21,
   "id": "07f66888",
   "metadata": {},
   "outputs": [
    {
     "data": {
      "text/plain": [
       "{'student_id': 6,\n",
       " 'name': 'xyzf',\n",
       " 'Phone': '846699',\n",
       " 'age': 26.0,\n",
       " 'Branch': 'pech Eng1'}"
      ]
     },
     "execution_count": 21,
     "metadata": {},
     "output_type": "execute_result"
    }
   ],
   "source": [
    "table_stu.get(6)\n"
   ]
  },
  {
   "cell_type": "markdown",
   "id": "2f9de0dd",
   "metadata": {},
   "source": [
    "### Update"
   ]
  },
  {
   "cell_type": "code",
   "execution_count": 41,
   "id": "47674593",
   "metadata": {},
   "outputs": [],
   "source": [
    "new_rec = {'student_id': 25,\n",
    " 'name': 'xyzf',\n",
    " 'Phone': '846',\n",
    " 'age': 26.0,\n",
    " 'Branch': 'pech Eng1'}"
   ]
  },
  {
   "cell_type": "code",
   "execution_count": 42,
   "id": "aa7b53b3",
   "metadata": {},
   "outputs": [
    {
     "data": {
      "text/plain": [
       "(True, 'Record updated')"
      ]
     },
     "execution_count": 42,
     "metadata": {},
     "output_type": "execute_result"
    }
   ],
   "source": [
    "table_stu.update('xyzf', new_rec)"
   ]
  },
  {
   "cell_type": "code",
   "execution_count": 47,
   "id": "366ee06a",
   "metadata": {},
   "outputs": [
    {
     "name": "stderr",
     "output_type": "stream",
     "text": [
      "Warning: node 1713364205520, port f3 unrecognized\n",
      "Warning: node 1713364193488, port f4 unrecognized\n",
      "Warning: node 1713364272464, port f3 unrecognized\n",
      "Warning: node 1713364273872, port f1 unrecognized\n",
      "Warning: node 1713364203280, port f1 unrecognized\n"
     ]
    },
    {
     "data": {
      "image/svg+xml": [
       "<svg xmlns=\"http://www.w3.org/2000/svg\" xmlns:xlink=\"http://www.w3.org/1999/xlink\" width=\"404pt\" height=\"861pt\" viewBox=\"0.00 0.00 403.58 860.75\">\n",
       "<g id=\"graph0\" class=\"graph\" transform=\"scale(1 1) rotate(0) translate(4 856.75)\">\n",
       "<polygon fill=\"white\" stroke=\"none\" points=\"-4,4 -4,-856.75 399.58,-856.75 399.58,4 -4,4\"/>\n",
       "<!-- 1713364205520 -->\n",
       "<g id=\"node1\" class=\"node\">\n",
       "<title>1713364205520</title>\n",
       "<g id=\"a_node1\"><a xlink:title=\"Internal Node\">\n",
       "<polygon fill=\"lightblue\" stroke=\"black\" points=\"263,-830 263,-852.25 347,-852.25 347,-830 263,-830\"/>\n",
       "<text text-anchor=\"middle\" x=\"277\" y=\"-836.85\" font-family=\"Times New Roman,serif\" font-size=\"12.00\">49</text>\n",
       "<polyline fill=\"none\" stroke=\"black\" points=\"291,-830 291,-852.25\"/>\n",
       "<text text-anchor=\"middle\" x=\"305\" y=\"-836.85\" font-family=\"Times New Roman,serif\" font-size=\"12.00\">67</text>\n",
       "<polyline fill=\"none\" stroke=\"black\" points=\"319,-830 319,-852.25\"/>\n",
       "<text text-anchor=\"middle\" x=\"333\" y=\"-836.85\" font-family=\"Times New Roman,serif\" font-size=\"12.00\">82</text>\n",
       "</a>\n",
       "</g>\n",
       "</g>\n",
       "<!-- 1713364193488 -->\n",
       "<g id=\"node2\" class=\"node\">\n",
       "<title>1713364193488</title>\n",
       "<g id=\"a_node2\"><a xlink:title=\"Internal Node\">\n",
       "<polygon fill=\"lightblue\" stroke=\"black\" points=\"160,-770.75 160,-793 272,-793 272,-770.75 160,-770.75\"/>\n",
       "<text text-anchor=\"middle\" x=\"174\" y=\"-777.6\" font-family=\"Times New Roman,serif\" font-size=\"12.00\">15</text>\n",
       "<polyline fill=\"none\" stroke=\"black\" points=\"188,-770.75 188,-793\"/>\n",
       "<text text-anchor=\"middle\" x=\"202\" y=\"-777.6\" font-family=\"Times New Roman,serif\" font-size=\"12.00\">25</text>\n",
       "<polyline fill=\"none\" stroke=\"black\" points=\"216,-770.75 216,-793\"/>\n",
       "<text text-anchor=\"middle\" x=\"230\" y=\"-777.6\" font-family=\"Times New Roman,serif\" font-size=\"12.00\">39</text>\n",
       "<polyline fill=\"none\" stroke=\"black\" points=\"244,-770.75 244,-793\"/>\n",
       "<text text-anchor=\"middle\" x=\"258\" y=\"-777.6\" font-family=\"Times New Roman,serif\" font-size=\"12.00\">45</text>\n",
       "</a>\n",
       "</g>\n",
       "</g>\n",
       "<!-- 1713364205520&#45;&gt;1713364193488 -->\n",
       "<g id=\"edge1\" class=\"edge\">\n",
       "<title>1713364205520:f0-&gt;1713364193488</title>\n",
       "<path fill=\"none\" stroke=\"black\" d=\"M262,-841.12C242.02,-841.12 229.37,-819.76 222.5,-802.91\"/>\n",
       "<polygon fill=\"black\" stroke=\"black\" points=\"225.51,-801.95 218.8,-793.76 218.93,-804.35 225.51,-801.95\"/>\n",
       "</g>\n",
       "<!-- 1713364272464 -->\n",
       "<g id=\"node8\" class=\"node\">\n",
       "<title>1713364272464</title>\n",
       "<g id=\"a_node8\"><a xlink:title=\"Internal Node\">\n",
       "<polygon fill=\"lightblue\" stroke=\"black\" points=\"213,-474.5 213,-496.75 297,-496.75 297,-474.5 213,-474.5\"/>\n",
       "<text text-anchor=\"middle\" x=\"227\" y=\"-481.35\" font-family=\"Times New Roman,serif\" font-size=\"12.00\">52</text>\n",
       "<polyline fill=\"none\" stroke=\"black\" points=\"241,-474.5 241,-496.75\"/>\n",
       "<text text-anchor=\"middle\" x=\"255\" y=\"-481.35\" font-family=\"Times New Roman,serif\" font-size=\"12.00\">53</text>\n",
       "<polyline fill=\"none\" stroke=\"black\" points=\"269,-474.5 269,-496.75\"/>\n",
       "<text text-anchor=\"middle\" x=\"283\" y=\"-481.35\" font-family=\"Times New Roman,serif\" font-size=\"12.00\">64</text>\n",
       "</a>\n",
       "</g>\n",
       "</g>\n",
       "<!-- 1713364205520&#45;&gt;1713364272464 -->\n",
       "<g id=\"edge12\" class=\"edge\">\n",
       "<title>1713364205520:f1-&gt;1713364272464</title>\n",
       "<path fill=\"none\" stroke=\"black\" d=\"M305,-829.5C305,-777.46 355,-775.66 355,-723.62 355,-723.62 355,-723.62 355,-603.12 355,-558.15 311.55,-521.85 281.94,-502.33\"/>\n",
       "<polygon fill=\"black\" stroke=\"black\" points=\"284.2,-498.98 273.88,-496.59 280.45,-504.9 284.2,-498.98\"/>\n",
       "</g>\n",
       "<!-- 1713364273872 -->\n",
       "<g id=\"node13\" class=\"node\">\n",
       "<title>1713364273872</title>\n",
       "<g id=\"a_node13\"><a xlink:title=\"Internal Node\">\n",
       "<polygon fill=\"lightblue\" stroke=\"black\" points=\"305,-237.5 305,-259.75 359,-259.75 359,-237.5 305,-237.5\"/>\n",
       "<text text-anchor=\"middle\" x=\"332\" y=\"-244.35\" font-family=\"Times New Roman,serif\" font-size=\"12.00\">71</text>\n",
       "</a>\n",
       "</g>\n",
       "</g>\n",
       "<!-- 1713364205520&#45;&gt;1713364273872 -->\n",
       "<g id=\"edge21\" class=\"edge\">\n",
       "<title>1713364205520:f2-&gt;1713364273872</title>\n",
       "<path fill=\"none\" stroke=\"black\" d=\"M348,-841.12C404.25,-841.12 395,-779.87 395,-723.62 395,-723.62 395,-723.62 395,-366.12 395,-333.94 391.74,-324.32 376,-296.25 369.88,-285.33 360.64,-275 352.2,-266.86\"/>\n",
       "<polygon fill=\"black\" stroke=\"black\" points=\"354.92,-264.68 345.18,-260.5 350.19,-269.84 354.92,-264.68\"/>\n",
       "</g>\n",
       "<!-- 1713364203280 -->\n",
       "<g id=\"node16\" class=\"node\">\n",
       "<title>1713364203280</title>\n",
       "<g id=\"a_node16\"><a xlink:title=\"Internal Node\">\n",
       "<polygon fill=\"lightblue\" stroke=\"black\" points=\"85,-119 85,-141.25 139,-141.25 139,-119 85,-119\"/>\n",
       "<text text-anchor=\"middle\" x=\"112\" y=\"-125.85\" font-family=\"Times New Roman,serif\" font-size=\"12.00\">92</text>\n",
       "</a>\n",
       "</g>\n",
       "</g>\n",
       "<!-- 1713364205520&#45;&gt;1713364203280 -->\n",
       "<g id=\"edge26\" class=\"edge\">\n",
       "<title>1713364205520:f3-&gt;1713364203280</title>\n",
       "<path fill=\"none\" stroke=\"black\" d=\"M264.81,-830C181.99,-806.5 0,-751.68 0,-723.62 0,-723.62 0,-723.62 0,-247.62 0,-200.51 48.19,-165.08 81.35,-146.28\"/>\n",
       "<polygon fill=\"black\" stroke=\"black\" points=\"82.56,-149.06 89.67,-141.2 79.21,-142.91 82.56,-149.06\"/>\n",
       "</g>\n",
       "<!-- 1713083958352 -->\n",
       "<g id=\"node3\" class=\"node\">\n",
       "<title>1713083958352</title>\n",
       "<g id=\"a_node3\"><a xlink:title=\"Leaf Node\">\n",
       "<polygon fill=\"lightgreen\" stroke=\"black\" points=\"28,-711.5 28,-733.75 138,-733.75 138,-711.5 28,-711.5\"/>\n",
       "<text text-anchor=\"middle\" x=\"39\" y=\"-718.35\" font-family=\"Times New Roman,serif\" font-size=\"12.00\">0</text>\n",
       "<polyline fill=\"none\" stroke=\"black\" points=\"50,-711.5 50,-733.75\"/>\n",
       "<text text-anchor=\"middle\" x=\"61\" y=\"-718.35\" font-family=\"Times New Roman,serif\" font-size=\"12.00\">1</text>\n",
       "<polyline fill=\"none\" stroke=\"black\" points=\"72,-711.5 72,-733.75\"/>\n",
       "<text text-anchor=\"middle\" x=\"83\" y=\"-718.35\" font-family=\"Times New Roman,serif\" font-size=\"12.00\">7</text>\n",
       "<polyline fill=\"none\" stroke=\"black\" points=\"94,-711.5 94,-733.75\"/>\n",
       "<text text-anchor=\"middle\" x=\"105\" y=\"-718.35\" font-family=\"Times New Roman,serif\" font-size=\"12.00\">7</text>\n",
       "<polyline fill=\"none\" stroke=\"black\" points=\"116,-711.5 116,-733.75\"/>\n",
       "<text text-anchor=\"middle\" x=\"127\" y=\"-718.35\" font-family=\"Times New Roman,serif\" font-size=\"12.00\">9</text>\n",
       "</a>\n",
       "</g>\n",
       "</g>\n",
       "<!-- 1713364193488&#45;&gt;1713083958352 -->\n",
       "<g id=\"edge2\" class=\"edge\">\n",
       "<title>1713364193488:f0-&gt;1713083958352</title>\n",
       "<path fill=\"none\" stroke=\"black\" d=\"M159,-781.88C132.49,-781.88 109.52,-759.27 95.96,-742.23\"/>\n",
       "<polygon fill=\"black\" stroke=\"black\" points=\"98.23,-740.42 89.44,-734.51 92.62,-744.61 98.23,-740.42\"/>\n",
       "</g>\n",
       "<!-- 1713364204240 -->\n",
       "<g id=\"node4\" class=\"node\">\n",
       "<title>1713364204240</title>\n",
       "<g id=\"a_node4\"><a xlink:title=\"Leaf Node\">\n",
       "<polygon fill=\"lightgreen\" stroke=\"black\" points=\"36,-652.25 36,-674.5 176,-674.5 176,-652.25 36,-652.25\"/>\n",
       "<text text-anchor=\"middle\" x=\"50\" y=\"-659.1\" font-family=\"Times New Roman,serif\" font-size=\"12.00\">15</text>\n",
       "<polyline fill=\"none\" stroke=\"black\" points=\"64,-652.25 64,-674.5\"/>\n",
       "<text text-anchor=\"middle\" x=\"78\" y=\"-659.1\" font-family=\"Times New Roman,serif\" font-size=\"12.00\">15</text>\n",
       "<polyline fill=\"none\" stroke=\"black\" points=\"92,-652.25 92,-674.5\"/>\n",
       "<text text-anchor=\"middle\" x=\"106\" y=\"-659.1\" font-family=\"Times New Roman,serif\" font-size=\"12.00\">17</text>\n",
       "<polyline fill=\"none\" stroke=\"black\" points=\"120,-652.25 120,-674.5\"/>\n",
       "<text text-anchor=\"middle\" x=\"134\" y=\"-659.1\" font-family=\"Times New Roman,serif\" font-size=\"12.00\">23</text>\n",
       "<polyline fill=\"none\" stroke=\"black\" points=\"148,-652.25 148,-674.5\"/>\n",
       "<text text-anchor=\"middle\" x=\"162\" y=\"-659.1\" font-family=\"Times New Roman,serif\" font-size=\"12.00\">23</text>\n",
       "</a>\n",
       "</g>\n",
       "</g>\n",
       "<!-- 1713364193488&#45;&gt;1713364204240 -->\n",
       "<g id=\"edge4\" class=\"edge\">\n",
       "<title>1713364193488:f1-&gt;1713364204240</title>\n",
       "<path fill=\"none\" stroke=\"black\" d=\"M202,-770.25C202,-748.08 155.24,-705.29 126.99,-681.46\"/>\n",
       "<polygon fill=\"black\" stroke=\"black\" points=\"129.48,-678.14 119.55,-674.43 125,-683.52 129.48,-678.14\"/>\n",
       "</g>\n",
       "<!-- 1713364205264 -->\n",
       "<g id=\"node5\" class=\"node\">\n",
       "<title>1713364205264</title>\n",
       "<g id=\"a_node5\"><a xlink:title=\"Leaf Node\">\n",
       "<polygon fill=\"lightgreen\" stroke=\"black\" points=\"149,-593 149,-615.25 289,-615.25 289,-593 149,-593\"/>\n",
       "<text text-anchor=\"middle\" x=\"163\" y=\"-599.85\" font-family=\"Times New Roman,serif\" font-size=\"12.00\">25</text>\n",
       "<polyline fill=\"none\" stroke=\"black\" points=\"177,-593 177,-615.25\"/>\n",
       "<text text-anchor=\"middle\" x=\"191\" y=\"-599.85\" font-family=\"Times New Roman,serif\" font-size=\"12.00\">25</text>\n",
       "<polyline fill=\"none\" stroke=\"black\" points=\"205,-593 205,-615.25\"/>\n",
       "<text text-anchor=\"middle\" x=\"219\" y=\"-599.85\" font-family=\"Times New Roman,serif\" font-size=\"12.00\">27</text>\n",
       "<polyline fill=\"none\" stroke=\"black\" points=\"233,-593 233,-615.25\"/>\n",
       "<text text-anchor=\"middle\" x=\"247\" y=\"-599.85\" font-family=\"Times New Roman,serif\" font-size=\"12.00\">29</text>\n",
       "<polyline fill=\"none\" stroke=\"black\" points=\"261,-593 261,-615.25\"/>\n",
       "<text text-anchor=\"middle\" x=\"275\" y=\"-599.85\" font-family=\"Times New Roman,serif\" font-size=\"12.00\">38</text>\n",
       "</a>\n",
       "</g>\n",
       "</g>\n",
       "<!-- 1713364193488&#45;&gt;1713364205264 -->\n",
       "<g id=\"edge6\" class=\"edge\">\n",
       "<title>1713364193488:f2-&gt;1713364205264</title>\n",
       "<path fill=\"none\" stroke=\"black\" d=\"M230,-770.25C230,-718.25 224.5,-657.25 221.28,-625.96\"/>\n",
       "<polygon fill=\"black\" stroke=\"black\" points=\"224.67,-625.74 220.14,-616.16 217.71,-626.47 224.67,-625.74\"/>\n",
       "</g>\n",
       "<!-- 1713364205136 -->\n",
       "<g id=\"node6\" class=\"node\">\n",
       "<title>1713364205136</title>\n",
       "<g id=\"a_node6\"><a xlink:title=\"Leaf Node\">\n",
       "<polygon fill=\"lightgreen\" stroke=\"black\" points=\"177,-533.75 177,-556 261,-556 261,-533.75 177,-533.75\"/>\n",
       "<text text-anchor=\"middle\" x=\"191\" y=\"-540.6\" font-family=\"Times New Roman,serif\" font-size=\"12.00\">39</text>\n",
       "<polyline fill=\"none\" stroke=\"black\" points=\"205,-533.75 205,-556\"/>\n",
       "<text text-anchor=\"middle\" x=\"219\" y=\"-540.6\" font-family=\"Times New Roman,serif\" font-size=\"12.00\">41</text>\n",
       "<polyline fill=\"none\" stroke=\"black\" points=\"233,-533.75 233,-556\"/>\n",
       "<text text-anchor=\"middle\" x=\"247\" y=\"-540.6\" font-family=\"Times New Roman,serif\" font-size=\"12.00\">41</text>\n",
       "</a>\n",
       "</g>\n",
       "</g>\n",
       "<!-- 1713364193488&#45;&gt;1713364205136 -->\n",
       "<g id=\"edge8\" class=\"edge\">\n",
       "<title>1713364193488:f3-&gt;1713364205136</title>\n",
       "<path fill=\"none\" stroke=\"black\" d=\"M273,-781.88C357.9,-781.88 340.1,-666.23 298,-592.5 289.79,-578.12 275.21,-567.72 260.79,-560.46\"/>\n",
       "<polygon fill=\"black\" stroke=\"black\" points=\"262.47,-556.91 251.92,-555.91 259.54,-563.27 262.47,-556.91\"/>\n",
       "</g>\n",
       "<!-- 1713364204176 -->\n",
       "<g id=\"node7\" class=\"node\">\n",
       "<title>1713364204176</title>\n",
       "<g id=\"a_node7\"><a xlink:title=\"Leaf Node\">\n",
       "<polygon fill=\"lightgreen\" stroke=\"black\" points=\"51,-474.5 51,-496.75 191,-496.75 191,-474.5 51,-474.5\"/>\n",
       "<text text-anchor=\"middle\" x=\"65\" y=\"-481.35\" font-family=\"Times New Roman,serif\" font-size=\"12.00\">45</text>\n",
       "<polyline fill=\"none\" stroke=\"black\" points=\"79,-474.5 79,-496.75\"/>\n",
       "<text text-anchor=\"middle\" x=\"93\" y=\"-481.35\" font-family=\"Times New Roman,serif\" font-size=\"12.00\">46</text>\n",
       "<polyline fill=\"none\" stroke=\"black\" points=\"107,-474.5 107,-496.75\"/>\n",
       "<text text-anchor=\"middle\" x=\"121\" y=\"-481.35\" font-family=\"Times New Roman,serif\" font-size=\"12.00\">46</text>\n",
       "<polyline fill=\"none\" stroke=\"black\" points=\"135,-474.5 135,-496.75\"/>\n",
       "<text text-anchor=\"middle\" x=\"149\" y=\"-481.35\" font-family=\"Times New Roman,serif\" font-size=\"12.00\">47</text>\n",
       "<polyline fill=\"none\" stroke=\"black\" points=\"163,-474.5 163,-496.75\"/>\n",
       "<text text-anchor=\"middle\" x=\"177\" y=\"-481.35\" font-family=\"Times New Roman,serif\" font-size=\"12.00\">47</text>\n",
       "</a>\n",
       "</g>\n",
       "</g>\n",
       "<!-- 1713364193488&#45;&gt;1713364204176 -->\n",
       "<g id=\"edge10\" class=\"edge\">\n",
       "<title>1713364193488:f4-&gt;1713364204176</title>\n",
       "<path fill=\"none\" stroke=\"black\" d=\"M215.74,-770.84C214.7,-747.19 209.62,-690.59 185,-651.75 171.29,-630.12 152.75,-637.96 140,-615.75 120.34,-581.5 118.64,-534.03 119.56,-507.22\"/>\n",
       "<polygon fill=\"black\" stroke=\"black\" points=\"123.1,-507.64 120.11,-497.47 116.11,-507.28 123.1,-507.64\"/>\n",
       "</g>\n",
       "<!-- 1713083958352&#45;&gt;1713364204240 -->\n",
       "<g id=\"edge3\" class=\"edge\">\n",
       "<title>1713083958352-&gt;1713364204240</title>\n",
       "<g id=\"a_edge3\"><a xlink:title=\"Next Leaf\">\n",
       "<path fill=\"none\" stroke=\"darkgreen\" stroke-dasharray=\"5,2\" d=\"M87.01,-711.65C90.04,-704.1 94.31,-693.48 98.03,-684.22\"/>\n",
       "<polygon fill=\"darkgreen\" stroke=\"darkgreen\" points=\"101.56,-685.82 102.04,-675.23 95.06,-683.21 101.56,-685.82\"/>\n",
       "</a>\n",
       "</g>\n",
       "</g>\n",
       "<!-- 1713364204240&#45;&gt;1713364205264 -->\n",
       "<g id=\"edge5\" class=\"edge\">\n",
       "<title>1713364204240-&gt;1713364205264</title>\n",
       "<g id=\"a_edge5\"><a xlink:title=\"Next Leaf\">\n",
       "<path fill=\"none\" stroke=\"darkgreen\" stroke-dasharray=\"5,2\" d=\"M125.94,-652.27C143.61,-643.32 169.64,-630.13 189.68,-619.98\"/>\n",
       "<polygon fill=\"darkgreen\" stroke=\"darkgreen\" points=\"190.92,-622.77 198.26,-615.13 187.76,-616.52 190.92,-622.77\"/>\n",
       "</a>\n",
       "</g>\n",
       "</g>\n",
       "<!-- 1713364205264&#45;&gt;1713364205136 -->\n",
       "<g id=\"edge7\" class=\"edge\">\n",
       "<title>1713364205264-&gt;1713364205136</title>\n",
       "<g id=\"a_edge7\"><a xlink:title=\"Next Leaf\">\n",
       "<path fill=\"none\" stroke=\"darkgreen\" stroke-dasharray=\"5,2\" d=\"M219,-593.15C219,-585.85 219,-575.67 219,-566.63\"/>\n",
       "<polygon fill=\"darkgreen\" stroke=\"darkgreen\" points=\"222.5,-566.73 219,-556.73 215.5,-566.73 222.5,-566.73\"/>\n",
       "</a>\n",
       "</g>\n",
       "</g>\n",
       "<!-- 1713364205136&#45;&gt;1713364204176 -->\n",
       "<g id=\"edge9\" class=\"edge\">\n",
       "<title>1713364205136-&gt;1713364204176</title>\n",
       "<g id=\"a_edge9\"><a xlink:title=\"Next Leaf\">\n",
       "<path fill=\"none\" stroke=\"darkgreen\" stroke-dasharray=\"5,2\" d=\"M201.93,-533.9C186.85,-525.09 164.61,-512.1 147.26,-501.97\"/>\n",
       "<polygon fill=\"darkgreen\" stroke=\"darkgreen\" points=\"149.6,-498.7 139.2,-496.68 146.07,-504.74 149.6,-498.7\"/>\n",
       "</a>\n",
       "</g>\n",
       "</g>\n",
       "<!-- 1713364196176 -->\n",
       "<g id=\"node9\" class=\"node\">\n",
       "<title>1713364196176</title>\n",
       "<g id=\"a_node9\"><a xlink:title=\"Leaf Node\">\n",
       "<polygon fill=\"lightgreen\" stroke=\"black\" points=\"61,-415.25 61,-437.5 173,-437.5 173,-415.25 61,-415.25\"/>\n",
       "<text text-anchor=\"middle\" x=\"75\" y=\"-422.1\" font-family=\"Times New Roman,serif\" font-size=\"12.00\">49</text>\n",
       "<polyline fill=\"none\" stroke=\"black\" points=\"89,-415.25 89,-437.5\"/>\n",
       "<text text-anchor=\"middle\" x=\"103\" y=\"-422.1\" font-family=\"Times New Roman,serif\" font-size=\"12.00\">49</text>\n",
       "<polyline fill=\"none\" stroke=\"black\" points=\"117,-415.25 117,-437.5\"/>\n",
       "<text text-anchor=\"middle\" x=\"131\" y=\"-422.1\" font-family=\"Times New Roman,serif\" font-size=\"12.00\">49</text>\n",
       "<polyline fill=\"none\" stroke=\"black\" points=\"145,-415.25 145,-437.5\"/>\n",
       "<text text-anchor=\"middle\" x=\"159\" y=\"-422.1\" font-family=\"Times New Roman,serif\" font-size=\"12.00\">51</text>\n",
       "</a>\n",
       "</g>\n",
       "</g>\n",
       "<!-- 1713364204176&#45;&gt;1713364196176 -->\n",
       "<g id=\"edge11\" class=\"edge\">\n",
       "<title>1713364204176-&gt;1713364196176</title>\n",
       "<g id=\"a_edge11\"><a xlink:title=\"Next Leaf\">\n",
       "<path fill=\"none\" stroke=\"darkgreen\" stroke-dasharray=\"5,2\" d=\"M120.3,-474.65C119.79,-467.35 119.08,-457.17 118.45,-448.13\"/>\n",
       "<polygon fill=\"darkgreen\" stroke=\"darkgreen\" points=\"121.88,-447.96 117.69,-438.23 114.89,-448.45 121.88,-447.96\"/>\n",
       "</a>\n",
       "</g>\n",
       "</g>\n",
       "<!-- 1713364272464&#45;&gt;1713364196176 -->\n",
       "<g id=\"edge13\" class=\"edge\">\n",
       "<title>1713364272464:f0-&gt;1713364196176</title>\n",
       "<path fill=\"none\" stroke=\"black\" d=\"M212,-485.62C204.57,-485.62 205.95,-478.44 200,-474 183.76,-461.89 164.05,-450.69 147.91,-442.3\"/>\n",
       "<polygon fill=\"black\" stroke=\"black\" points=\"149.88,-438.87 139.38,-437.46 146.71,-445.11 149.88,-438.87\"/>\n",
       "</g>\n",
       "<!-- 1713364272784 -->\n",
       "<g id=\"node10\" class=\"node\">\n",
       "<title>1713364272784</title>\n",
       "<g id=\"a_node10\"><a xlink:title=\"Leaf Node\">\n",
       "<polygon fill=\"lightgreen\" stroke=\"black\" points=\"227,-356 227,-378.25 283,-378.25 283,-356 227,-356\"/>\n",
       "<text text-anchor=\"middle\" x=\"241\" y=\"-362.85\" font-family=\"Times New Roman,serif\" font-size=\"12.00\">52</text>\n",
       "<polyline fill=\"none\" stroke=\"black\" points=\"255,-356 255,-378.25\"/>\n",
       "<text text-anchor=\"middle\" x=\"269\" y=\"-362.85\" font-family=\"Times New Roman,serif\" font-size=\"12.00\">52</text>\n",
       "</a>\n",
       "</g>\n",
       "</g>\n",
       "<!-- 1713364272464&#45;&gt;1713364272784 -->\n",
       "<g id=\"edge15\" class=\"edge\">\n",
       "<title>1713364272464:f1-&gt;1713364272784</title>\n",
       "<path fill=\"none\" stroke=\"black\" d=\"M255,-474C255,-444.5 255,-410.37 255,-389.02\"/>\n",
       "<polygon fill=\"black\" stroke=\"black\" points=\"258.5,-389.05 255,-379.05 251.5,-389.05 258.5,-389.05\"/>\n",
       "</g>\n",
       "<!-- 1713085385232 -->\n",
       "<g id=\"node11\" class=\"node\">\n",
       "<title>1713085385232</title>\n",
       "<g id=\"a_node11\"><a xlink:title=\"Leaf Node\">\n",
       "<polygon fill=\"lightgreen\" stroke=\"black\" points=\"227,-296.75 227,-319 367,-319 367,-296.75 227,-296.75\"/>\n",
       "<text text-anchor=\"middle\" x=\"241\" y=\"-303.6\" font-family=\"Times New Roman,serif\" font-size=\"12.00\">53</text>\n",
       "<polyline fill=\"none\" stroke=\"black\" points=\"255,-296.75 255,-319\"/>\n",
       "<text text-anchor=\"middle\" x=\"269\" y=\"-303.6\" font-family=\"Times New Roman,serif\" font-size=\"12.00\">59</text>\n",
       "<polyline fill=\"none\" stroke=\"black\" points=\"283,-296.75 283,-319\"/>\n",
       "<text text-anchor=\"middle\" x=\"297\" y=\"-303.6\" font-family=\"Times New Roman,serif\" font-size=\"12.00\">60</text>\n",
       "<polyline fill=\"none\" stroke=\"black\" points=\"311,-296.75 311,-319\"/>\n",
       "<text text-anchor=\"middle\" x=\"325\" y=\"-303.6\" font-family=\"Times New Roman,serif\" font-size=\"12.00\">61</text>\n",
       "<polyline fill=\"none\" stroke=\"black\" points=\"339,-296.75 339,-319\"/>\n",
       "<text text-anchor=\"middle\" x=\"353\" y=\"-303.6\" font-family=\"Times New Roman,serif\" font-size=\"12.00\">61</text>\n",
       "</a>\n",
       "</g>\n",
       "</g>\n",
       "<!-- 1713364272464&#45;&gt;1713085385232 -->\n",
       "<g id=\"edge17\" class=\"edge\">\n",
       "<title>1713364272464:f2-&gt;1713085385232</title>\n",
       "<path fill=\"none\" stroke=\"black\" d=\"M283,-474C283,-431.48 288.48,-421.13 292,-378.75 293.37,-362.25 294.7,-343.54 295.64,-329.64\"/>\n",
       "<polygon fill=\"black\" stroke=\"black\" points=\"299.19,-330.04 296.36,-319.83 292.2,-329.58 299.19,-330.04\"/>\n",
       "</g>\n",
       "<!-- 1713364273680 -->\n",
       "<g id=\"node12\" class=\"node\">\n",
       "<title>1713364273680</title>\n",
       "<g id=\"a_node12\"><a xlink:title=\"Leaf Node\">\n",
       "<polygon fill=\"lightgreen\" stroke=\"black\" points=\"220,-237.5 220,-259.75 276,-259.75 276,-237.5 220,-237.5\"/>\n",
       "<text text-anchor=\"middle\" x=\"234\" y=\"-244.35\" font-family=\"Times New Roman,serif\" font-size=\"12.00\">64</text>\n",
       "<polyline fill=\"none\" stroke=\"black\" points=\"248,-237.5 248,-259.75\"/>\n",
       "<text text-anchor=\"middle\" x=\"262\" y=\"-244.35\" font-family=\"Times New Roman,serif\" font-size=\"12.00\">66</text>\n",
       "</a>\n",
       "</g>\n",
       "</g>\n",
       "<!-- 1713364272464&#45;&gt;1713364273680 -->\n",
       "<g id=\"edge19\" class=\"edge\">\n",
       "<title>1713364272464:f3-&gt;1713364273680</title>\n",
       "<path fill=\"none\" stroke=\"black\" d=\"M249.3,-474.78C234.71,-445.54 198.45,-362.78 218,-296.25 220.97,-286.16 226.86,-276.19 232.65,-268.08\"/>\n",
       "<polygon fill=\"black\" stroke=\"black\" points=\"235.91,-270.58 239.21,-260.51 230.35,-266.32 235.91,-270.58\"/>\n",
       "</g>\n",
       "<!-- 1713364196176&#45;&gt;1713364272784 -->\n",
       "<g id=\"edge14\" class=\"edge\">\n",
       "<title>1713364196176-&gt;1713364272784</title>\n",
       "<g id=\"a_edge14\"><a xlink:title=\"Next Leaf\">\n",
       "<path fill=\"none\" stroke=\"darkgreen\" stroke-dasharray=\"5,2\" d=\"M141.35,-415.27C163.43,-406.12 196.18,-392.53 220.86,-382.29\"/>\n",
       "<polygon fill=\"darkgreen\" stroke=\"darkgreen\" points=\"221.99,-385.19 229.89,-378.13 219.31,-378.73 221.99,-385.19\"/>\n",
       "</a>\n",
       "</g>\n",
       "</g>\n",
       "<!-- 1713364272784&#45;&gt;1713085385232 -->\n",
       "<g id=\"edge16\" class=\"edge\">\n",
       "<title>1713364272784-&gt;1713085385232</title>\n",
       "<g id=\"a_edge16\"><a xlink:title=\"Next Leaf\">\n",
       "<path fill=\"none\" stroke=\"darkgreen\" stroke-dasharray=\"5,2\" d=\"M262.32,-356.15C268.1,-348.27 276.33,-337.05 283.32,-327.52\"/>\n",
       "<polygon fill=\"darkgreen\" stroke=\"darkgreen\" points=\"286.67,-329.87 289.77,-319.73 281.03,-325.73 286.67,-329.87\"/>\n",
       "</a>\n",
       "</g>\n",
       "</g>\n",
       "<!-- 1713085385232&#45;&gt;1713364273680 -->\n",
       "<g id=\"edge18\" class=\"edge\">\n",
       "<title>1713085385232-&gt;1713364273680</title>\n",
       "<g id=\"a_edge18\"><a xlink:title=\"Next Leaf\">\n",
       "<path fill=\"none\" stroke=\"darkgreen\" stroke-dasharray=\"5,2\" d=\"M288.46,-296.9C281.58,-288.86 271.71,-277.33 263.45,-267.67\"/>\n",
       "<polygon fill=\"darkgreen\" stroke=\"darkgreen\" points=\"265.6,-265.8 256.44,-260.48 260.28,-270.36 265.6,-265.8\"/>\n",
       "</a>\n",
       "</g>\n",
       "</g>\n",
       "<!-- 1713364278416 -->\n",
       "<g id=\"node14\" class=\"node\">\n",
       "<title>1713364278416</title>\n",
       "<g id=\"a_node14\"><a xlink:title=\"Leaf Node\">\n",
       "<polygon fill=\"lightgreen\" stroke=\"black\" points=\"192,-178.25 192,-200.5 304,-200.5 304,-178.25 192,-178.25\"/>\n",
       "<text text-anchor=\"middle\" x=\"206\" y=\"-185.1\" font-family=\"Times New Roman,serif\" font-size=\"12.00\">67</text>\n",
       "<polyline fill=\"none\" stroke=\"black\" points=\"220,-178.25 220,-200.5\"/>\n",
       "<text text-anchor=\"middle\" x=\"234\" y=\"-185.1\" font-family=\"Times New Roman,serif\" font-size=\"12.00\">67</text>\n",
       "<polyline fill=\"none\" stroke=\"black\" points=\"248,-178.25 248,-200.5\"/>\n",
       "<text text-anchor=\"middle\" x=\"262\" y=\"-185.1\" font-family=\"Times New Roman,serif\" font-size=\"12.00\">70</text>\n",
       "<polyline fill=\"none\" stroke=\"black\" points=\"276,-178.25 276,-200.5\"/>\n",
       "<text text-anchor=\"middle\" x=\"290\" y=\"-185.1\" font-family=\"Times New Roman,serif\" font-size=\"12.00\">71</text>\n",
       "</a>\n",
       "</g>\n",
       "</g>\n",
       "<!-- 1713364273680&#45;&gt;1713364278416 -->\n",
       "<g id=\"edge20\" class=\"edge\">\n",
       "<title>1713364273680-&gt;1713364278416</title>\n",
       "<g id=\"a_edge20\"><a xlink:title=\"Next Leaf\">\n",
       "<path fill=\"none\" stroke=\"darkgreen\" stroke-dasharray=\"5,2\" d=\"M248,-237.65C248,-230.35 248,-220.17 248,-211.13\"/>\n",
       "<polygon fill=\"darkgreen\" stroke=\"darkgreen\" points=\"251.5,-211.23 248,-201.23 244.5,-211.23 251.5,-211.23\"/>\n",
       "</a>\n",
       "</g>\n",
       "</g>\n",
       "<!-- 1713364273872&#45;&gt;1713364278416 -->\n",
       "<g id=\"edge22\" class=\"edge\">\n",
       "<title>1713364273872:f0-&gt;1713364278416</title>\n",
       "<path fill=\"none\" stroke=\"black\" d=\"M316.2,-237.67C303.49,-228.86 285.45,-216.35 271.12,-206.41\"/>\n",
       "<polygon fill=\"black\" stroke=\"black\" points=\"273.54,-203.13 263.33,-200.31 269.55,-208.89 273.54,-203.13\"/>\n",
       "</g>\n",
       "<!-- 1713364205072 -->\n",
       "<g id=\"node15\" class=\"node\">\n",
       "<title>1713364205072</title>\n",
       "<g id=\"a_node15\"><a xlink:title=\"Leaf Node\">\n",
       "<polygon fill=\"lightgreen\" stroke=\"black\" points=\"206,-119 206,-141.25 290,-141.25 290,-119 206,-119\"/>\n",
       "<text text-anchor=\"middle\" x=\"220\" y=\"-125.85\" font-family=\"Times New Roman,serif\" font-size=\"12.00\">71</text>\n",
       "<polyline fill=\"none\" stroke=\"black\" points=\"234,-119 234,-141.25\"/>\n",
       "<text text-anchor=\"middle\" x=\"248\" y=\"-125.85\" font-family=\"Times New Roman,serif\" font-size=\"12.00\">72</text>\n",
       "<polyline fill=\"none\" stroke=\"black\" points=\"262,-119 262,-141.25\"/>\n",
       "<text text-anchor=\"middle\" x=\"276\" y=\"-125.85\" font-family=\"Times New Roman,serif\" font-size=\"12.00\">77</text>\n",
       "</a>\n",
       "</g>\n",
       "</g>\n",
       "<!-- 1713364273872&#45;&gt;1713364205072 -->\n",
       "<g id=\"edge24\" class=\"edge\">\n",
       "<title>1713364273872:f1-&gt;1713364205072</title>\n",
       "<path fill=\"none\" stroke=\"black\" d=\"M331.33,-237.59C329.95,-222.77 325.76,-196.19 313,-177.75 304.12,-164.92 290.52,-154.37 278.04,-146.57\"/>\n",
       "<polygon fill=\"black\" stroke=\"black\" points=\"280.22,-143.2 269.82,-141.15 276.67,-149.23 280.22,-143.2\"/>\n",
       "</g>\n",
       "<!-- 1713364278416&#45;&gt;1713364205072 -->\n",
       "<g id=\"edge23\" class=\"edge\">\n",
       "<title>1713364278416-&gt;1713364205072</title>\n",
       "<g id=\"a_edge23\"><a xlink:title=\"Next Leaf\">\n",
       "<path fill=\"none\" stroke=\"darkgreen\" stroke-dasharray=\"5,2\" d=\"M248,-178.4C248,-171.1 248,-160.92 248,-151.88\"/>\n",
       "<polygon fill=\"darkgreen\" stroke=\"darkgreen\" points=\"251.5,-151.98 248,-141.98 244.5,-151.98 251.5,-151.98\"/>\n",
       "</a>\n",
       "</g>\n",
       "</g>\n",
       "<!-- 1713364195728 -->\n",
       "<g id=\"node17\" class=\"node\">\n",
       "<title>1713364195728</title>\n",
       "<g id=\"a_node17\"><a xlink:title=\"Leaf Node\">\n",
       "<polygon fill=\"lightgreen\" stroke=\"black\" points=\"140,-59.75 140,-82 280,-82 280,-59.75 140,-59.75\"/>\n",
       "<text text-anchor=\"middle\" x=\"154\" y=\"-66.6\" font-family=\"Times New Roman,serif\" font-size=\"12.00\">82</text>\n",
       "<polyline fill=\"none\" stroke=\"black\" points=\"168,-59.75 168,-82\"/>\n",
       "<text text-anchor=\"middle\" x=\"182\" y=\"-66.6\" font-family=\"Times New Roman,serif\" font-size=\"12.00\">82</text>\n",
       "<polyline fill=\"none\" stroke=\"black\" points=\"196,-59.75 196,-82\"/>\n",
       "<text text-anchor=\"middle\" x=\"210\" y=\"-66.6\" font-family=\"Times New Roman,serif\" font-size=\"12.00\">83</text>\n",
       "<polyline fill=\"none\" stroke=\"black\" points=\"224,-59.75 224,-82\"/>\n",
       "<text text-anchor=\"middle\" x=\"238\" y=\"-66.6\" font-family=\"Times New Roman,serif\" font-size=\"12.00\">85</text>\n",
       "<polyline fill=\"none\" stroke=\"black\" points=\"252,-59.75 252,-82\"/>\n",
       "<text text-anchor=\"middle\" x=\"266\" y=\"-66.6\" font-family=\"Times New Roman,serif\" font-size=\"12.00\">87</text>\n",
       "</a>\n",
       "</g>\n",
       "</g>\n",
       "<!-- 1713364205072&#45;&gt;1713364195728 -->\n",
       "<g id=\"edge25\" class=\"edge\">\n",
       "<title>1713364205072-&gt;1713364195728</title>\n",
       "<g id=\"a_edge25\"><a xlink:title=\"Next Leaf\">\n",
       "<path fill=\"none\" stroke=\"darkgreen\" stroke-dasharray=\"5,2\" d=\"M241.38,-119.15C236.2,-111.35 228.86,-100.28 222.57,-90.82\"/>\n",
       "<polygon fill=\"darkgreen\" stroke=\"darkgreen\" points=\"224.99,-89.13 216.54,-82.73 219.16,-93 224.99,-89.13\"/>\n",
       "</a>\n",
       "</g>\n",
       "</g>\n",
       "<!-- 1713364203280&#45;&gt;1713364195728 -->\n",
       "<g id=\"edge27\" class=\"edge\">\n",
       "<title>1713364203280:f0-&gt;1713364195728</title>\n",
       "<path fill=\"none\" stroke=\"black\" d=\"M130.43,-119.17C145.54,-110.19 167.11,-97.37 183.98,-87.34\"/>\n",
       "<polygon fill=\"black\" stroke=\"black\" points=\"185.48,-89.93 192.28,-81.81 181.9,-83.91 185.48,-89.93\"/>\n",
       "</g>\n",
       "<!-- 1713364197776 -->\n",
       "<g id=\"node18\" class=\"node\">\n",
       "<title>1713364197776</title>\n",
       "<g id=\"a_node18\"><a xlink:title=\"Leaf Node\">\n",
       "<polygon fill=\"lightgreen\" stroke=\"black\" points=\"91,-0.5 91,-22.75 231,-22.75 231,-0.5 91,-0.5\"/>\n",
       "<text text-anchor=\"middle\" x=\"105\" y=\"-7.35\" font-family=\"Times New Roman,serif\" font-size=\"12.00\">92</text>\n",
       "<polyline fill=\"none\" stroke=\"black\" points=\"119,-0.5 119,-22.75\"/>\n",
       "<text text-anchor=\"middle\" x=\"133\" y=\"-7.35\" font-family=\"Times New Roman,serif\" font-size=\"12.00\">94</text>\n",
       "<polyline fill=\"none\" stroke=\"black\" points=\"147,-0.5 147,-22.75\"/>\n",
       "<text text-anchor=\"middle\" x=\"161\" y=\"-7.35\" font-family=\"Times New Roman,serif\" font-size=\"12.00\">94</text>\n",
       "<polyline fill=\"none\" stroke=\"black\" points=\"175,-0.5 175,-22.75\"/>\n",
       "<text text-anchor=\"middle\" x=\"189\" y=\"-7.35\" font-family=\"Times New Roman,serif\" font-size=\"12.00\">95</text>\n",
       "<polyline fill=\"none\" stroke=\"black\" points=\"203,-0.5 203,-22.75\"/>\n",
       "<text text-anchor=\"middle\" x=\"217\" y=\"-7.35\" font-family=\"Times New Roman,serif\" font-size=\"12.00\">96</text>\n",
       "</a>\n",
       "</g>\n",
       "</g>\n",
       "<!-- 1713364203280&#45;&gt;1713364197776 -->\n",
       "<g id=\"edge29\" class=\"edge\">\n",
       "<title>1713364203280:f1-&gt;1713364197776</title>\n",
       "<path fill=\"none\" stroke=\"black\" d=\"M113.84,-119.21C116.47,-104.98 122.03,-79.52 131,-59.25 135.31,-49.51 141.51,-39.47 147.14,-31.22\"/>\n",
       "<polygon fill=\"black\" stroke=\"black\" points=\"150.42,-33.65 153.37,-23.48 144.72,-29.6 150.42,-33.65\"/>\n",
       "</g>\n",
       "<!-- 1713364195728&#45;&gt;1713364197776 -->\n",
       "<g id=\"edge28\" class=\"edge\">\n",
       "<title>1713364195728-&gt;1713364197776</title>\n",
       "<g id=\"a_edge28\"><a xlink:title=\"Next Leaf\">\n",
       "<path fill=\"none\" stroke=\"darkgreen\" stroke-dasharray=\"5,2\" d=\"M201.46,-59.9C194.58,-51.86 184.71,-40.33 176.45,-30.67\"/>\n",
       "<polygon fill=\"darkgreen\" stroke=\"darkgreen\" points=\"178.6,-28.8 169.44,-23.48 173.28,-33.36 178.6,-28.8\"/>\n",
       "</a>\n",
       "</g>\n",
       "</g>\n",
       "</g>\n",
       "</svg>"
      ],
      "text/plain": [
       "<IPython.core.display.SVG object>"
      ]
     },
     "metadata": {},
     "output_type": "display_data"
    }
   ],
   "source": [
    "from IPython.display import SVG, display\n",
    "\n",
    "dot = table_stu.data.visualize_tree()\n",
    "svg_data = dot.pipe(format='svg').decode('utf-8')\n",
    "display(SVG(svg_data))"
   ]
  },
  {
   "cell_type": "markdown",
   "id": "60282f60",
   "metadata": {},
   "source": [
    "### Deletion"
   ]
  },
  {
   "cell_type": "code",
   "execution_count": 42,
   "id": "b0ae6973",
   "metadata": {},
   "outputs": [
    {
     "data": {
      "text/plain": [
       "(True, 'Record deleted')"
      ]
     },
     "execution_count": 42,
     "metadata": {},
     "output_type": "execute_result"
    }
   ],
   "source": [
    "table_stu.delete(6)"
   ]
  },
  {
   "cell_type": "markdown",
   "id": "39d35b29",
   "metadata": {},
   "source": [
    "### Range Query"
   ]
  },
  {
   "cell_type": "code",
   "execution_count": 45,
   "id": "901fd4f1",
   "metadata": {},
   "outputs": [],
   "source": [
    "import random\n",
    "import string\n",
    "\n",
    "def random_record_generator(schema, n):\n",
    "    def random_value(data_type):\n",
    "        if data_type == int:\n",
    "            return random.randint(1, 100)\n",
    "        elif data_type == float:\n",
    "            return round(random.uniform(18.0, 60.0), 2)\n",
    "        elif data_type == str:\n",
    "            return ''.join(random.choices(string.ascii_letters, k=6))\n",
    "        else:\n",
    "            return None  # Unknown type\n",
    "\n",
    "    records = []\n",
    "    for _ in range(n):\n",
    "        record = {}\n",
    "        for field, field_type in schema.items():\n",
    "            record[field] = random_value(field_type)\n",
    "        records.append(record)\n",
    "    return records"
   ]
  },
  {
   "cell_type": "code",
   "execution_count": 46,
   "id": "d0300dc8",
   "metadata": {},
   "outputs": [],
   "source": [
    "import pandas as pd\n",
    "records = random_record_generator(student_schema, 50)\n",
    "\n",
    "for rec in records:\n",
    "    table_stu.insert(rec)\n",
    " "
   ]
  },
  {
   "cell_type": "code",
   "execution_count": 48,
   "id": "abad793b",
   "metadata": {},
   "outputs": [
    {
     "data": {
      "text/plain": [
       "[(64,\n",
       "  {'student_id': 64,\n",
       "   'name': 'PRpIqg',\n",
       "   'Phone': 'kHSDRP',\n",
       "   'age': 26.7,\n",
       "   'Branch': 'STXUyO'}),\n",
       " (66,\n",
       "  {'student_id': 66,\n",
       "   'name': 'TLKxuT',\n",
       "   'Phone': 'nCHjRx',\n",
       "   'age': 34.59,\n",
       "   'Branch': 'TzVIbd'}),\n",
       " (67,\n",
       "  {'student_id': 67,\n",
       "   'name': 'aRzfuh',\n",
       "   'Phone': 'HFCVxY',\n",
       "   'age': 46.32,\n",
       "   'Branch': 'yoZNom'}),\n",
       " (67,\n",
       "  {'student_id': 67,\n",
       "   'name': 'YDrHyk',\n",
       "   'Phone': 'ZrqWQI',\n",
       "   'age': 22.05,\n",
       "   'Branch': 'wAZXxy'}),\n",
       " (70,\n",
       "  {'student_id': 70,\n",
       "   'name': 'ZavVCx',\n",
       "   'Phone': 'ZDgLsO',\n",
       "   'age': 44.03,\n",
       "   'Branch': 'zCWZsu'})]"
      ]
     },
     "execution_count": 48,
     "metadata": {},
     "output_type": "execute_result"
    }
   ],
   "source": [
    "table_stu.range_query(63, 70)"
   ]
  },
  {
   "cell_type": "markdown",
   "id": "f7f9dd1b",
   "metadata": {},
   "source": [
    "## Performance testing"
   ]
  },
  {
   "cell_type": "code",
   "execution_count": null,
   "id": "334e101d",
   "metadata": {},
   "outputs": [],
   "source": []
  }
 ],
 "metadata": {
  "kernelspec": {
   "display_name": "Python 3",
   "language": "python",
   "name": "python3"
  },
  "language_info": {
   "codemirror_mode": {
    "name": "ipython",
    "version": 3
   },
   "file_extension": ".py",
   "mimetype": "text/x-python",
   "name": "python",
   "nbconvert_exporter": "python",
   "pygments_lexer": "ipython3",
   "version": "3.11.7"
  }
 },
 "nbformat": 4,
 "nbformat_minor": 5
}
